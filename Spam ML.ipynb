{
 "cells": [
  {
   "cell_type": "markdown",
   "id": "53524fa6",
   "metadata": {},
   "source": [
    "# SPAM MESSAGES – MACHINE LEARNING"
   ]
  },
  {
   "cell_type": "markdown",
   "id": "2b7afa54",
   "metadata": {},
   "source": [
    "IMPORT"
   ]
  },
  {
   "cell_type": "markdown",
   "id": "11f268c4",
   "metadata": {},
   "source": [
    "# COUNT VALID WORDS"
   ]
  },
  {
   "cell_type": "code",
   "execution_count": 157,
   "id": "49772a62",
   "metadata": {},
   "outputs": [
    {
     "name": "stdout",
     "output_type": "stream",
     "text": [
      "Reinitialized existing Git repository in /Users/jacksteel/Documents/Documents - Jack’s MacBook Pro/SpamML/.git/\n",
      "fatal: pathspec 'Spam' did not match any files\n",
      "On branch main\n",
      "\n",
      "Initial commit\n",
      "\n",
      "Untracked files:\n",
      "  (use \"git add <file>...\" to include in what will be committed)\n",
      "\t\u001b[31m.ipynb_checkpoints/\u001b[m\n",
      "\t\u001b[31mSpam ML.ipynb\u001b[m\n",
      "\t\u001b[31mspam.csv\u001b[m\n",
      "\n",
      "nothing added to commit but untracked files present (use \"git add\" to track)\n",
      "error: remote origin already exists.\n",
      "error: src refspec main does not match any\n",
      "\u001b[31merror: failed to push some refs to 'https://github.com/jacksteel5314/SpamDetectionML.git'\n",
      "\u001b[m"
     ]
    }
   ],
   "source": [
    "\n",
    "!git init\n",
    "!git add \"Spam ML.ipynb\n",
    "!git commit -m \"first commit\"\n",
    "!git branch -M main\n",
    "!git remote add origin https://github.com/jacksteel5314/SpamDetectionML.git\n",
    "!git push -u origin main"
   ]
  },
  {
   "cell_type": "code",
   "execution_count": 134,
   "id": "6e85b440",
   "metadata": {},
   "outputs": [],
   "source": [
    "#Imports \n",
    "import numpy as np \n",
    "import pandas as pd\n",
    "import seaborn as sns\n",
    "from sklearn import preprocessing\n",
    "from sklearn.linear_model import LogisticRegression\n",
    "from sklearn.model_selection import train_test_split\n",
    "import matplotlib.pyplot as plt\n",
    "import math\n",
    "import copy\n",
    "import re\n",
    "from collections import Counter \n",
    "%matplotlib inline"
   ]
  },
  {
   "cell_type": "markdown",
   "id": "3250b166",
   "metadata": {},
   "source": [
    "READ IN DATA"
   ]
  },
  {
   "cell_type": "code",
   "execution_count": 135,
   "id": "241d10e4",
   "metadata": {},
   "outputs": [
    {
     "name": "stdout",
     "output_type": "stream",
     "text": [
      "Number of Observations:  5572\n",
      "Number of Columns:  5\n"
     ]
    },
    {
     "data": {
      "text/html": [
       "<div>\n",
       "<style scoped>\n",
       "    .dataframe tbody tr th:only-of-type {\n",
       "        vertical-align: middle;\n",
       "    }\n",
       "\n",
       "    .dataframe tbody tr th {\n",
       "        vertical-align: top;\n",
       "    }\n",
       "\n",
       "    .dataframe thead th {\n",
       "        text-align: right;\n",
       "    }\n",
       "</style>\n",
       "<table border=\"1\" class=\"dataframe\">\n",
       "  <thead>\n",
       "    <tr style=\"text-align: right;\">\n",
       "      <th></th>\n",
       "      <th>v1</th>\n",
       "      <th>v2</th>\n",
       "      <th>Unnamed: 2</th>\n",
       "      <th>Unnamed: 3</th>\n",
       "      <th>Unnamed: 4</th>\n",
       "    </tr>\n",
       "  </thead>\n",
       "  <tbody>\n",
       "    <tr>\n",
       "      <th>0</th>\n",
       "      <td>ham</td>\n",
       "      <td>Go until jurong point, crazy.. Available only ...</td>\n",
       "      <td>NaN</td>\n",
       "      <td>NaN</td>\n",
       "      <td>NaN</td>\n",
       "    </tr>\n",
       "    <tr>\n",
       "      <th>1</th>\n",
       "      <td>ham</td>\n",
       "      <td>Ok lar... Joking wif u oni...</td>\n",
       "      <td>NaN</td>\n",
       "      <td>NaN</td>\n",
       "      <td>NaN</td>\n",
       "    </tr>\n",
       "    <tr>\n",
       "      <th>2</th>\n",
       "      <td>spam</td>\n",
       "      <td>Free entry in 2 a wkly comp to win FA Cup fina...</td>\n",
       "      <td>NaN</td>\n",
       "      <td>NaN</td>\n",
       "      <td>NaN</td>\n",
       "    </tr>\n",
       "    <tr>\n",
       "      <th>3</th>\n",
       "      <td>ham</td>\n",
       "      <td>U dun say so early hor... U c already then say...</td>\n",
       "      <td>NaN</td>\n",
       "      <td>NaN</td>\n",
       "      <td>NaN</td>\n",
       "    </tr>\n",
       "    <tr>\n",
       "      <th>4</th>\n",
       "      <td>ham</td>\n",
       "      <td>Nah I don't think he goes to usf, he lives aro...</td>\n",
       "      <td>NaN</td>\n",
       "      <td>NaN</td>\n",
       "      <td>NaN</td>\n",
       "    </tr>\n",
       "  </tbody>\n",
       "</table>\n",
       "</div>"
      ],
      "text/plain": [
       "     v1                                                 v2 Unnamed: 2  \\\n",
       "0   ham  Go until jurong point, crazy.. Available only ...        NaN   \n",
       "1   ham                      Ok lar... Joking wif u oni...        NaN   \n",
       "2  spam  Free entry in 2 a wkly comp to win FA Cup fina...        NaN   \n",
       "3   ham  U dun say so early hor... U c already then say...        NaN   \n",
       "4   ham  Nah I don't think he goes to usf, he lives aro...        NaN   \n",
       "\n",
       "  Unnamed: 3 Unnamed: 4  \n",
       "0        NaN        NaN  \n",
       "1        NaN        NaN  \n",
       "2        NaN        NaN  \n",
       "3        NaN        NaN  \n",
       "4        NaN        NaN  "
      ]
     },
     "execution_count": 135,
     "metadata": {},
     "output_type": "execute_result"
    }
   ],
   "source": [
    "df = pd.read_csv(\"spam.csv\", encoding='cp1252')\n",
    "print(\"Number of Observations: \", len(df))\n",
    "print(\"Number of Columns: \", len(df.columns))\n",
    "df.head()"
   ]
  },
  {
   "cell_type": "markdown",
   "id": "2093f08d",
   "metadata": {},
   "source": [
    "CLEANING THE DATA"
   ]
  },
  {
   "cell_type": "code",
   "execution_count": 136,
   "id": "bef5910a",
   "metadata": {},
   "outputs": [
    {
     "name": "stdout",
     "output_type": "stream",
     "text": [
      "Number of Observations:  5572\n",
      "Number of Columns:  2\n"
     ]
    },
    {
     "name": "stderr",
     "output_type": "stream",
     "text": [
      "/var/folders/t9/jkdln0dj4z1d48j56btqnp780000gn/T/ipykernel_80634/3345441496.py:4: SettingWithCopyWarning: \n",
      "A value is trying to be set on a copy of a slice from a DataFrame.\n",
      "Try using .loc[row_indexer,col_indexer] = value instead\n",
      "\n",
      "See the caveats in the documentation: https://pandas.pydata.org/pandas-docs/stable/user_guide/indexing.html#returning-a-view-versus-a-copy\n",
      "  spam_df[\"Spam?\"] = np.where(spam_df[\"v1\"] == \"spam\", 1, 0)\n"
     ]
    },
    {
     "data": {
      "text/html": [
       "<div>\n",
       "<style scoped>\n",
       "    .dataframe tbody tr th:only-of-type {\n",
       "        vertical-align: middle;\n",
       "    }\n",
       "\n",
       "    .dataframe tbody tr th {\n",
       "        vertical-align: top;\n",
       "    }\n",
       "\n",
       "    .dataframe thead th {\n",
       "        text-align: right;\n",
       "    }\n",
       "</style>\n",
       "<table border=\"1\" class=\"dataframe\">\n",
       "  <thead>\n",
       "    <tr style=\"text-align: right;\">\n",
       "      <th></th>\n",
       "      <th>Spam?</th>\n",
       "      <th>Message</th>\n",
       "    </tr>\n",
       "  </thead>\n",
       "  <tbody>\n",
       "    <tr>\n",
       "      <th>0</th>\n",
       "      <td>0</td>\n",
       "      <td>Go until jurong point, crazy.. Available only ...</td>\n",
       "    </tr>\n",
       "    <tr>\n",
       "      <th>1</th>\n",
       "      <td>0</td>\n",
       "      <td>Ok lar... Joking wif u oni...</td>\n",
       "    </tr>\n",
       "    <tr>\n",
       "      <th>2</th>\n",
       "      <td>1</td>\n",
       "      <td>Free entry in 2 a wkly comp to win FA Cup fina...</td>\n",
       "    </tr>\n",
       "    <tr>\n",
       "      <th>3</th>\n",
       "      <td>0</td>\n",
       "      <td>U dun say so early hor... U c already then say...</td>\n",
       "    </tr>\n",
       "    <tr>\n",
       "      <th>4</th>\n",
       "      <td>0</td>\n",
       "      <td>Nah I don't think he goes to usf, he lives aro...</td>\n",
       "    </tr>\n",
       "  </tbody>\n",
       "</table>\n",
       "</div>"
      ],
      "text/plain": [
       "   Spam?                                            Message\n",
       "0      0  Go until jurong point, crazy.. Available only ...\n",
       "1      0                      Ok lar... Joking wif u oni...\n",
       "2      1  Free entry in 2 a wkly comp to win FA Cup fina...\n",
       "3      0  U dun say so early hor... U c already then say...\n",
       "4      0  Nah I don't think he goes to usf, he lives aro..."
      ]
     },
     "execution_count": 136,
     "metadata": {},
     "output_type": "execute_result"
    }
   ],
   "source": [
    "spam_df = df[[\"v1\", \"v2\"]]\n",
    "print(\"Number of Observations: \", len(df))\n",
    "print(\"Number of Columns: \", len(spam_df.columns))\n",
    "spam_df[\"Spam?\"] = np.where(spam_df[\"v1\"] == \"spam\", 1, 0)\n",
    "spam_df = spam_df[[\"Spam?\", \"v2\"]]\n",
    "spam_df.rename(columns = {\"v2\": \"Message\"}, inplace=True)\n",
    "spam_df.head()"
   ]
  },
  {
   "cell_type": "markdown",
   "id": "25e89dc1",
   "metadata": {},
   "source": [
    "ADDING VARIABLES"
   ]
  },
  {
   "cell_type": "markdown",
   "id": "26637d7d",
   "metadata": {},
   "source": [
    "Most Frequent Words in Spam / Ham"
   ]
  },
  {
   "cell_type": "code",
   "execution_count": 137,
   "id": "c959252e",
   "metadata": {},
   "outputs": [],
   "source": [
    "# Spam Most Common Words\n",
    "spam_only = spam_df[spam_df[\"Spam?\"] == 1]\n",
    "spam_words = \"\"\n",
    "for message in spam_only[\"Message\"]:\n",
    "    spam_words = spam_words.lower() + \" \" + message\n",
    "spam_word_array = spam_words.split(\" \")\n",
    "spam_most_common = Counter(spam_word_array).most_common(30)\n",
    "spam_words_df = pd.DataFrame(spam_most_common, columns = [\"Word\", \"Count\"])\n",
    "  \n",
    "# Ham Most Common Words \n",
    "ham_only = spam_df[spam_df[\"Spam?\"] == 0]\n",
    "ham_words = \"\"\n",
    "for message in ham_only[\"Message\"]:\n",
    "    ham_words = ham_words.lower() + \" \" + message\n",
    "ham_word_array = ham_words.split(\" \")\n",
    "ham_most_common = Counter(ham_word_array).most_common(30)\n",
    "ham_words_df = pd.DataFrame(ham_most_common, columns = [\"Word\", \"Count\"])"
   ]
  },
  {
   "cell_type": "markdown",
   "id": "be752a40",
   "metadata": {},
   "source": [
    "Graph Thirty Most Frequent Words in Spam Messages"
   ]
  },
  {
   "cell_type": "code",
   "execution_count": 138,
   "id": "bd9522a4",
   "metadata": {},
   "outputs": [
    {
     "data": {
      "text/plain": [
       "<AxesSubplot:xlabel='Count', ylabel='Word'>"
      ]
     },
     "execution_count": 138,
     "metadata": {},
     "output_type": "execute_result"
    },
    {
     "data": {
      "image/png": "[encoded data removed]",
      "text/plain": [
       "<Figure size 640x480 with 1 Axes>"
      ]
     },
     "metadata": {},
     "output_type": "display_data"
    }
   ],
   "source": [
    "sns.barplot(data=spam_words_df, x=\"Count\", y=\"Word\")"
   ]
  },
  {
   "cell_type": "markdown",
   "id": "ed759365",
   "metadata": {},
   "source": [
    "Graph Thirty Most Frequent Words in Ham Messages"
   ]
  },
  {
   "cell_type": "code",
   "execution_count": 139,
   "id": "7c69f6c6",
   "metadata": {},
   "outputs": [
    {
     "data": {
      "text/plain": [
       "<AxesSubplot:xlabel='Count', ylabel='Word'>"
      ]
     },
     "execution_count": 139,
     "metadata": {},
     "output_type": "execute_result"
    },
    {
     "data": {
      "image/png": "[encoded data removed]",
      "text/plain": [
       "<Figure size 640x480 with 1 Axes>"
      ]
     },
     "metadata": {},
     "output_type": "display_data"
    }
   ],
   "source": [
    "sns.barplot(data=ham_words_df, x=\"Count\", y=\"Word\")"
   ]
  },
  {
   "cell_type": "markdown",
   "id": "d0852c51",
   "metadata": {},
   "source": [
    "Adding Variables"
   ]
  },
  {
   "cell_type": "code",
   "execution_count": 140,
   "id": "8f5eb26c",
   "metadata": {},
   "outputs": [
    {
     "data": {
      "text/html": [
       "<div>\n",
       "<style scoped>\n",
       "    .dataframe tbody tr th:only-of-type {\n",
       "        vertical-align: middle;\n",
       "    }\n",
       "\n",
       "    .dataframe tbody tr th {\n",
       "        vertical-align: top;\n",
       "    }\n",
       "\n",
       "    .dataframe thead th {\n",
       "        text-align: right;\n",
       "    }\n",
       "</style>\n",
       "<table border=\"1\" class=\"dataframe\">\n",
       "  <thead>\n",
       "    <tr style=\"text-align: right;\">\n",
       "      <th></th>\n",
       "      <th>Spam?</th>\n",
       "      <th>Message</th>\n",
       "      <th>num_phone_related</th>\n",
       "      <th>num_winner</th>\n",
       "      <th>num_of_website</th>\n",
       "      <th>num_rand_letters</th>\n",
       "      <th>length_of_mess</th>\n",
       "      <th>spam_word_count</th>\n",
       "      <th>ham_word_count</th>\n",
       "    </tr>\n",
       "  </thead>\n",
       "  <tbody>\n",
       "    <tr>\n",
       "      <th>0</th>\n",
       "      <td>0</td>\n",
       "      <td>Go until jurong point, crazy.. Available only ...</td>\n",
       "      <td>0</td>\n",
       "      <td>0</td>\n",
       "      <td>0</td>\n",
       "      <td>0</td>\n",
       "      <td>111</td>\n",
       "      <td>17</td>\n",
       "      <td>20</td>\n",
       "    </tr>\n",
       "    <tr>\n",
       "      <th>1</th>\n",
       "      <td>0</td>\n",
       "      <td>Ok lar... Joking wif u oni...</td>\n",
       "      <td>0</td>\n",
       "      <td>0</td>\n",
       "      <td>0</td>\n",
       "      <td>0</td>\n",
       "      <td>29</td>\n",
       "      <td>3</td>\n",
       "      <td>6</td>\n",
       "    </tr>\n",
       "    <tr>\n",
       "      <th>2</th>\n",
       "      <td>1</td>\n",
       "      <td>Free entry in 2 a wkly comp to win FA Cup fina...</td>\n",
       "      <td>2</td>\n",
       "      <td>1</td>\n",
       "      <td>0</td>\n",
       "      <td>1</td>\n",
       "      <td>155</td>\n",
       "      <td>19</td>\n",
       "      <td>16</td>\n",
       "    </tr>\n",
       "    <tr>\n",
       "      <th>3</th>\n",
       "      <td>0</td>\n",
       "      <td>U dun say so early hor... U c already then say...</td>\n",
       "      <td>0</td>\n",
       "      <td>0</td>\n",
       "      <td>0</td>\n",
       "      <td>0</td>\n",
       "      <td>49</td>\n",
       "      <td>8</td>\n",
       "      <td>8</td>\n",
       "    </tr>\n",
       "    <tr>\n",
       "      <th>4</th>\n",
       "      <td>0</td>\n",
       "      <td>Nah I don't think he goes to usf, he lives aro...</td>\n",
       "      <td>0</td>\n",
       "      <td>0</td>\n",
       "      <td>0</td>\n",
       "      <td>0</td>\n",
       "      <td>61</td>\n",
       "      <td>7</td>\n",
       "      <td>9</td>\n",
       "    </tr>\n",
       "    <tr>\n",
       "      <th>5</th>\n",
       "      <td>1</td>\n",
       "      <td>FreeMsg Hey there darling it's been 3 week's n...</td>\n",
       "      <td>2</td>\n",
       "      <td>1</td>\n",
       "      <td>0</td>\n",
       "      <td>2</td>\n",
       "      <td>148</td>\n",
       "      <td>12</td>\n",
       "      <td>18</td>\n",
       "    </tr>\n",
       "    <tr>\n",
       "      <th>6</th>\n",
       "      <td>0</td>\n",
       "      <td>Even my brother is not like to speak with me. ...</td>\n",
       "      <td>0</td>\n",
       "      <td>0</td>\n",
       "      <td>0</td>\n",
       "      <td>0</td>\n",
       "      <td>77</td>\n",
       "      <td>8</td>\n",
       "      <td>15</td>\n",
       "    </tr>\n",
       "    <tr>\n",
       "      <th>7</th>\n",
       "      <td>0</td>\n",
       "      <td>As per your request 'Melle Melle (Oru Minnamin...</td>\n",
       "      <td>3</td>\n",
       "      <td>0</td>\n",
       "      <td>0</td>\n",
       "      <td>0</td>\n",
       "      <td>160</td>\n",
       "      <td>21</td>\n",
       "      <td>26</td>\n",
       "    </tr>\n",
       "    <tr>\n",
       "      <th>8</th>\n",
       "      <td>1</td>\n",
       "      <td>WINNER!! As a valued network customer you have...</td>\n",
       "      <td>1</td>\n",
       "      <td>4</td>\n",
       "      <td>0</td>\n",
       "      <td>3</td>\n",
       "      <td>158</td>\n",
       "      <td>20</td>\n",
       "      <td>23</td>\n",
       "    </tr>\n",
       "    <tr>\n",
       "      <th>9</th>\n",
       "      <td>1</td>\n",
       "      <td>Had your mobile 11 months or more? U R entitle...</td>\n",
       "      <td>4</td>\n",
       "      <td>2</td>\n",
       "      <td>0</td>\n",
       "      <td>1</td>\n",
       "      <td>154</td>\n",
       "      <td>21</td>\n",
       "      <td>21</td>\n",
       "    </tr>\n",
       "    <tr>\n",
       "      <th>10</th>\n",
       "      <td>0</td>\n",
       "      <td>I'm gonna be home soon and i don't want to tal...</td>\n",
       "      <td>0</td>\n",
       "      <td>0</td>\n",
       "      <td>0</td>\n",
       "      <td>0</td>\n",
       "      <td>109</td>\n",
       "      <td>18</td>\n",
       "      <td>23</td>\n",
       "    </tr>\n",
       "    <tr>\n",
       "      <th>11</th>\n",
       "      <td>1</td>\n",
       "      <td>SIX chances to win CASH! From 100 to 20,000 po...</td>\n",
       "      <td>2</td>\n",
       "      <td>1</td>\n",
       "      <td>0</td>\n",
       "      <td>3</td>\n",
       "      <td>136</td>\n",
       "      <td>13</td>\n",
       "      <td>12</td>\n",
       "    </tr>\n",
       "    <tr>\n",
       "      <th>12</th>\n",
       "      <td>1</td>\n",
       "      <td>URGENT! You have won a 1 week FREE membership ...</td>\n",
       "      <td>1</td>\n",
       "      <td>4</td>\n",
       "      <td>1</td>\n",
       "      <td>3</td>\n",
       "      <td>156</td>\n",
       "      <td>13</td>\n",
       "      <td>14</td>\n",
       "    </tr>\n",
       "    <tr>\n",
       "      <th>13</th>\n",
       "      <td>0</td>\n",
       "      <td>I've been searching for the right words to tha...</td>\n",
       "      <td>0</td>\n",
       "      <td>0</td>\n",
       "      <td>0</td>\n",
       "      <td>0</td>\n",
       "      <td>196</td>\n",
       "      <td>28</td>\n",
       "      <td>38</td>\n",
       "    </tr>\n",
       "    <tr>\n",
       "      <th>14</th>\n",
       "      <td>0</td>\n",
       "      <td>I HAVE A DATE ON SUNDAY WITH WILL!!</td>\n",
       "      <td>0</td>\n",
       "      <td>0</td>\n",
       "      <td>0</td>\n",
       "      <td>2</td>\n",
       "      <td>35</td>\n",
       "      <td>0</td>\n",
       "      <td>0</td>\n",
       "    </tr>\n",
       "    <tr>\n",
       "      <th>15</th>\n",
       "      <td>1</td>\n",
       "      <td>XXXMobileMovieClub: To use your credit, click ...</td>\n",
       "      <td>4</td>\n",
       "      <td>0</td>\n",
       "      <td>1</td>\n",
       "      <td>4</td>\n",
       "      <td>149</td>\n",
       "      <td>11</td>\n",
       "      <td>18</td>\n",
       "    </tr>\n",
       "    <tr>\n",
       "      <th>16</th>\n",
       "      <td>0</td>\n",
       "      <td>Oh k...i'm watching here:)</td>\n",
       "      <td>0</td>\n",
       "      <td>0</td>\n",
       "      <td>0</td>\n",
       "      <td>0</td>\n",
       "      <td>26</td>\n",
       "      <td>1</td>\n",
       "      <td>3</td>\n",
       "    </tr>\n",
       "    <tr>\n",
       "      <th>17</th>\n",
       "      <td>0</td>\n",
       "      <td>Eh u remember how 2 spell his name... Yes i di...</td>\n",
       "      <td>0</td>\n",
       "      <td>0</td>\n",
       "      <td>0</td>\n",
       "      <td>0</td>\n",
       "      <td>81</td>\n",
       "      <td>8</td>\n",
       "      <td>14</td>\n",
       "    </tr>\n",
       "    <tr>\n",
       "      <th>18</th>\n",
       "      <td>0</td>\n",
       "      <td>Fine if thatåÕs the way u feel. ThatåÕs the wa...</td>\n",
       "      <td>0</td>\n",
       "      <td>0</td>\n",
       "      <td>0</td>\n",
       "      <td>0</td>\n",
       "      <td>58</td>\n",
       "      <td>8</td>\n",
       "      <td>11</td>\n",
       "    </tr>\n",
       "    <tr>\n",
       "      <th>19</th>\n",
       "      <td>1</td>\n",
       "      <td>England v Macedonia - dont miss the goals/team...</td>\n",
       "      <td>2</td>\n",
       "      <td>0</td>\n",
       "      <td>0</td>\n",
       "      <td>2</td>\n",
       "      <td>156</td>\n",
       "      <td>21</td>\n",
       "      <td>18</td>\n",
       "    </tr>\n",
       "  </tbody>\n",
       "</table>\n",
       "</div>"
      ],
      "text/plain": [
       "    Spam?                                            Message  \\\n",
       "0       0  Go until jurong point, crazy.. Available only ...   \n",
       "1       0                      Ok lar... Joking wif u oni...   \n",
       "2       1  Free entry in 2 a wkly comp to win FA Cup fina...   \n",
       "3       0  U dun say so early hor... U c already then say...   \n",
       "4       0  Nah I don't think he goes to usf, he lives aro...   \n",
       "5       1  FreeMsg Hey there darling it's been 3 week's n...   \n",
       "6       0  Even my brother is not like to speak with me. ...   \n",
       "7       0  As per your request 'Melle Melle (Oru Minnamin...   \n",
       "8       1  WINNER!! As a valued network customer you have...   \n",
       "9       1  Had your mobile 11 months or more? U R entitle...   \n",
       "10      0  I'm gonna be home soon and i don't want to tal...   \n",
       "11      1  SIX chances to win CASH! From 100 to 20,000 po...   \n",
       "12      1  URGENT! You have won a 1 week FREE membership ...   \n",
       "13      0  I've been searching for the right words to tha...   \n",
       "14      0                I HAVE A DATE ON SUNDAY WITH WILL!!   \n",
       "15      1  XXXMobileMovieClub: To use your credit, click ...   \n",
       "16      0                         Oh k...i'm watching here:)   \n",
       "17      0  Eh u remember how 2 spell his name... Yes i di...   \n",
       "18      0  Fine if thatåÕs the way u feel. ThatåÕs the wa...   \n",
       "19      1  England v Macedonia - dont miss the goals/team...   \n",
       "\n",
       "    num_phone_related  num_winner  num_of_website  num_rand_letters  \\\n",
       "0                   0           0               0                 0   \n",
       "1                   0           0               0                 0   \n",
       "2                   2           1               0                 1   \n",
       "3                   0           0               0                 0   \n",
       "4                   0           0               0                 0   \n",
       "5                   2           1               0                 2   \n",
       "6                   0           0               0                 0   \n",
       "7                   3           0               0                 0   \n",
       "8                   1           4               0                 3   \n",
       "9                   4           2               0                 1   \n",
       "10                  0           0               0                 0   \n",
       "11                  2           1               0                 3   \n",
       "12                  1           4               1                 3   \n",
       "13                  0           0               0                 0   \n",
       "14                  0           0               0                 2   \n",
       "15                  4           0               1                 4   \n",
       "16                  0           0               0                 0   \n",
       "17                  0           0               0                 0   \n",
       "18                  0           0               0                 0   \n",
       "19                  2           0               0                 2   \n",
       "\n",
       "    length_of_mess  spam_word_count  ham_word_count  \n",
       "0              111               17              20  \n",
       "1               29                3               6  \n",
       "2              155               19              16  \n",
       "3               49                8               8  \n",
       "4               61                7               9  \n",
       "5              148               12              18  \n",
       "6               77                8              15  \n",
       "7              160               21              26  \n",
       "8              158               20              23  \n",
       "9              154               21              21  \n",
       "10             109               18              23  \n",
       "11             136               13              12  \n",
       "12             156               13              14  \n",
       "13             196               28              38  \n",
       "14              35                0               0  \n",
       "15             149               11              18  \n",
       "16              26                1               3  \n",
       "17              81                8              14  \n",
       "18              58                8              11  \n",
       "19             156               21              18  "
      ]
     },
     "execution_count": 140,
     "metadata": {},
     "output_type": "execute_result"
    }
   ],
   "source": [
    "spam_df[\"num_phone_related\"] = spam_df[\"Message\"].str.lower().str.count(\"msg|sms|message|mobile|phone|call|txt|text|texting|send\") \n",
    "spam_df[\"num_winner\"] = spam_df[\"Message\"].str.lower().str.count(\"winner|congratulations|prize|jackpot|claim|vacation|cash|free\") \n",
    "spam_df[\"num_of_website\"] = spam_df[\"Message\"].str.lower().str.count(\"http|www\") \n",
    "spam_df[\"num_rand_letters\"] = spam_df[\"Message\"].str.count(\"!|@|#|$|%|^|&|>|<|/+|=\") - 2\n",
    "spam_df[\"length_of_mess\"] = [len(mess) for mess in spam_df[\"Message\"]]\n",
    "spam_df[\"spam_word_count\"] = spam_df[\"Message\"].str.count(\"to|a|call|your|you|the|for|or|free|2|is|ur|on|txt|have|from|and|u|text|mobile|with|claim|reply|&|of|now|4|stop|our|this\")\n",
    "spam_df[\"ham_word_count\"] = spam_df[\"Message\"].str.count(\"i|you|to|the|a|u|and|in|my|is|me|of|for|that|it|have|your|but|are|so|not|on|at|i'm|can|if|do|will|be\")\n",
    "spam_df[:20]\n"
   ]
  },
  {
   "cell_type": "markdown",
   "id": "4232c7ac",
   "metadata": {},
   "source": [
    "# Demonstrating Data"
   ]
  },
  {
   "cell_type": "markdown",
   "id": "cd7c26eb",
   "metadata": {},
   "source": [
    "Length of Message with Outliers"
   ]
  },
  {
   "cell_type": "code",
   "execution_count": 141,
   "id": "faf38e57",
   "metadata": {},
   "outputs": [
    {
     "data": {
      "text/plain": [
       "<AxesSubplot:xlabel='Spam?', ylabel='length_of_mess'>"
      ]
     },
     "execution_count": 141,
     "metadata": {},
     "output_type": "execute_result"
    },
    {
     "data": {
      "image/png": "[encoded data removed]",
      "text/plain": [
       "<Figure size 640x480 with 1 Axes>"
      ]
     },
     "metadata": {},
     "output_type": "display_data"
    }
   ],
   "source": [
    "sns.boxplot(data=spam_df, y=\"length_of_mess\", x=\"Spam?\")"
   ]
  },
  {
   "cell_type": "markdown",
   "id": "495b94ff",
   "metadata": {},
   "source": [
    "Number of Messages Talking About Winner vs. Number of Messages with Random Characters – Boxplot & Scatterplot"
   ]
  },
  {
   "cell_type": "code",
   "execution_count": 142,
   "id": "2eb0eb21",
   "metadata": {},
   "outputs": [
    {
     "data": {
      "text/plain": [
       "<AxesSubplot:xlabel='num_winner', ylabel='num_rand_letters'>"
      ]
     },
     "execution_count": 142,
     "metadata": {},
     "output_type": "execute_result"
    },
    {
     "data": {
      "image/png": "[encoded data removed]",
      "text/plain": [
       "<Figure size 640x480 with 1 Axes>"
      ]
     },
     "metadata": {},
     "output_type": "display_data"
    }
   ],
   "source": [
    "sns.barplot(data=spam_df, x=\"num_winner\", y=\"num_rand_letters\", hue=\"Spam?\")"
   ]
  },
  {
   "cell_type": "code",
   "execution_count": 143,
   "id": "80135982",
   "metadata": {},
   "outputs": [
    {
     "data": {
      "text/plain": [
       "<AxesSubplot:xlabel='num_winner', ylabel='num_rand_letters'>"
      ]
     },
     "execution_count": 143,
     "metadata": {},
     "output_type": "execute_result"
    },
    {
     "data": {
      "image/png": "[encoded data removed]",
      "text/plain": [
       "<Figure size 640x480 with 1 Axes>"
      ]
     },
     "metadata": {},
     "output_type": "display_data"
    }
   ],
   "source": [
    "sns.scatterplot(data=spam_df, x=\"num_winner\", y=\"num_rand_letters\", hue=\"Spam?\")"
   ]
  },
  {
   "cell_type": "markdown",
   "id": "063ffde7",
   "metadata": {},
   "source": [
    "Number of Messages Referencing MSG/Message/etc. vs. Number of Messages with a Website – Boxplot & Scatterplot"
   ]
  },
  {
   "cell_type": "code",
   "execution_count": 144,
   "id": "96e9fe7d",
   "metadata": {},
   "outputs": [
    {
     "data": {
      "text/plain": [
       "<AxesSubplot:xlabel='num_phone_related', ylabel='num_of_website'>"
      ]
     },
     "execution_count": 144,
     "metadata": {},
     "output_type": "execute_result"
    },
    {
     "data": {
      "image/png": "[encoded data removed]",
      "text/plain": [
       "<Figure size 640x480 with 1 Axes>"
      ]
     },
     "metadata": {},
     "output_type": "display_data"
    }
   ],
   "source": [
    "sns.barplot(data=spam_df, x=\"num_phone_related\", y=\"num_of_website\", hue=\"Spam?\")"
   ]
  },
  {
   "cell_type": "code",
   "execution_count": 145,
   "id": "6e942ed9",
   "metadata": {},
   "outputs": [
    {
     "data": {
      "text/plain": [
       "<AxesSubplot:xlabel='num_phone_related', ylabel='num_of_website'>"
      ]
     },
     "execution_count": 145,
     "metadata": {},
     "output_type": "execute_result"
    },
    {
     "data": {
      "image/png": "[encoded data removed]",
      "text/plain": [
       "<Figure size 640x480 with 1 Axes>"
      ]
     },
     "metadata": {},
     "output_type": "display_data"
    }
   ],
   "source": [
    "sns.scatterplot(data=spam_df, x=\"num_phone_related\", y=\"num_of_website\", hue=\"Spam?\")"
   ]
  },
  {
   "cell_type": "markdown",
   "id": "8a44dd7b",
   "metadata": {},
   "source": [
    "Spam Word vs Ham Word Counts"
   ]
  },
  {
   "cell_type": "code",
   "execution_count": 146,
   "id": "c5d738e0",
   "metadata": {},
   "outputs": [
    {
     "data": {
      "text/plain": [
       "<AxesSubplot:xlabel='spam_word_count', ylabel='ham_word_count'>"
      ]
     },
     "execution_count": 146,
     "metadata": {},
     "output_type": "execute_result"
    },
    {
     "data": {
      "image/png": "[encoded data removed]",
      "text/plain": [
       "<Figure size 640x480 with 1 Axes>"
      ]
     },
     "metadata": {},
     "output_type": "display_data"
    }
   ],
   "source": [
    "sns.scatterplot(data=spam_df, x=\"spam_word_count\", y=\"ham_word_count\", hue=\"Spam?\")"
   ]
  },
  {
   "cell_type": "markdown",
   "id": "35c98943",
   "metadata": {},
   "source": [
    "Trial One: Website"
   ]
  },
  {
   "cell_type": "code",
   "execution_count": 154,
   "id": "e3106064",
   "metadata": {},
   "outputs": [],
   "source": [
    "X = spam_df.loc[:, spam_df.columns != 'Spam?']\n",
    "y = spam_df.loc[:, spam_df.columns == 'Spam?']\n",
    "\n",
    "X_train, X_test, y_train, y_test = train_test_split(X, y, test_size = 0.2, random_state = 0)\n",
    "columns = X_train.columns"
   ]
  },
  {
   "cell_type": "markdown",
   "id": "5ee5556e",
   "metadata": {},
   "source": [
    "Trial Two: Creating the Training Datasets "
   ]
  },
  {
   "cell_type": "code",
   "execution_count": 147,
   "id": "03387870",
   "metadata": {},
   "outputs": [
    {
     "name": "stdout",
     "output_type": "stream",
     "text": [
      "First Five X Values: \n",
      " [[17. 20.]\n",
      " [ 3.  6.]\n",
      " [19. 16.]\n",
      " [ 8.  8.]\n",
      " [ 7.  9.]]\n",
      "First Five Y Values: \n",
      " [0. 0. 1. 0. 0.]\n"
     ]
    }
   ],
   "source": [
    "num_spam = spam_df[\"spam_word_count\"]\n",
    "num_ham = spam_df[\"ham_word_count\"]\n",
    "X_train = []\n",
    "y_train = []\n",
    "i = 0 \n",
    "while i < len(num_spam):\n",
    "    X_train.append([float(num_spam[i]), float(num_ham[i])])\n",
    "    y_train.append(float(spam_df[\"Spam?\"][i]))\n",
    "    i = i + 1\n",
    "y_train = np.array(y_train)\n",
    "X_train = np.array(X_train)\n",
    "\n",
    "print(\"First Five X Values: \\n\", X_train[:5])\n",
    "print(\"First Five Y Values: \\n\", y_train[:5])"
   ]
  },
  {
   "cell_type": "markdown",
   "id": "7ad6b22c",
   "metadata": {},
   "source": [
    "Sigmoid Function"
   ]
  },
  {
   "cell_type": "code",
   "execution_count": 108,
   "id": "e5ec2ba8",
   "metadata": {},
   "outputs": [],
   "source": [
    "def sigmoid(x):\n",
    "    val = 1 / (1 + math.e**(-x))\n",
    "    return val\n"
   ]
  },
  {
   "cell_type": "markdown",
   "id": "5286c43c",
   "metadata": {},
   "source": [
    "Testing Values for Sigmoid Function"
   ]
  },
  {
   "cell_type": "code",
   "execution_count": 109,
   "id": "db659459",
   "metadata": {},
   "outputs": [
    {
     "name": "stdout",
     "output_type": "stream",
     "text": [
      "Input = 0, Output =  0.5\n",
      "Input = 0.5, Output =  0.6224593312018546\n",
      "Input = 1, Output =  0.7310585786300049\n",
      "Input = [0.25, 6, 12.3], Output =  [0.5621765  0.99752738 0.99999545]\n"
     ]
    }
   ],
   "source": [
    "print(\"Input = 0, Output = \", sigmoid(0))\n",
    "print(\"Input = 0.5, Output = \", sigmoid(0.5))\n",
    "print(\"Input = 1, Output = \", sigmoid(1))\n",
    "print(\"Input = [0.25, 6, 12.3], Output = \", sigmoid(np.array([0.25, 6, 12.3])))"
   ]
  },
  {
   "cell_type": "markdown",
   "id": "92cea47f",
   "metadata": {},
   "source": [
    "Computing Cost"
   ]
  },
  {
   "cell_type": "code",
   "execution_count": 128,
   "id": "9e1c49b0",
   "metadata": {},
   "outputs": [],
   "source": [
    "def cost(X_arr, y_arr, w, b):\n",
    "    y_arr = np.array(y_arr)\n",
    "    m, n = X_arr.shape\n",
    "    total_loss = 0\n",
    "    for row in range(m):\n",
    "        f_val = 0\n",
    "        z_val = 0\n",
    "        for col in range(n):\n",
    "            z_val = z_val + (w[col] * X_arr[row][col])\n",
    "        z_val = z_val + b\n",
    "        f_val = sigmoid(z_val)\n",
    "\n",
    "        loss_val = -y_arr[row] * np.log(f_val) - ((1-y_arr[row]) * np.log(1-f_val))\n",
    "        total_loss = total_loss + loss_val\n",
    "    return total_loss/m\n",
    "        \n",
    "        "
   ]
  },
  {
   "cell_type": "markdown",
   "id": "bc3709e7",
   "metadata": {},
   "source": [
    "Testing Cost Function with Zeros"
   ]
  },
  {
   "cell_type": "code",
   "execution_count": 129,
   "id": "ecd3e111",
   "metadata": {},
   "outputs": [
    {
     "name": "stdout",
     "output_type": "stream",
     "text": [
      "0.6931471805600047\n"
     ]
    }
   ],
   "source": [
    "print(cost(X_train, y_train, np.array([0., 0.]), 0.))"
   ]
  },
  {
   "cell_type": "markdown",
   "id": "e5daf0df",
   "metadata": {},
   "source": [
    "Gradient (Logistic Regression)"
   ]
  },
  {
   "cell_type": "code",
   "execution_count": 130,
   "id": "5c3442f4",
   "metadata": {},
   "outputs": [],
   "source": [
    "def gradient(X_arr, y_arr, w, b, *argv):\n",
    "    m, n = X_arr.shape\n",
    "    dj_dw = np.zeros(w.shape)\n",
    "    dj_db = 0.\n",
    "    for row in range(m):\n",
    "        z = 0\n",
    "        for col in range(n):\n",
    "            z = z + (w[col] * X_arr[row][col])\n",
    "        z = z + b\n",
    "        f = sigmoid(z)\n",
    "        \n",
    "        for col in range(len(w.shape)):\n",
    "            dj_dw[col] = dj_dw[col] + ((f - y_arr[row]) * X_arr[row][col])\n",
    "            \n",
    "        dj_db = dj_db + f - y_arr[row]\n",
    "    dj_dw = dj_dw / len(X_arr)\n",
    "    dj_db = dj_db / len(w.shape)\n",
    "    return dj_dw, dj_db"
   ]
  },
  {
   "cell_type": "code",
   "execution_count": 131,
   "id": "a9e0b8b9",
   "metadata": {},
   "outputs": [
    {
     "data": {
      "text/plain": [
       "array([2.61486001, 0.        ])"
      ]
     },
     "execution_count": 131,
     "metadata": {},
     "output_type": "execute_result"
    }
   ],
   "source": [
    "dj_dw, dj_db = gradient(X_train, y_train, np.array([0., 0.]), 0.)\n",
    "dj_dw"
   ]
  },
  {
   "cell_type": "markdown",
   "id": "a30ae3a3",
   "metadata": {},
   "source": [
    "Gradient Descent"
   ]
  },
  {
   "cell_type": "code",
   "execution_count": 132,
   "id": "be177605",
   "metadata": {},
   "outputs": [],
   "source": [
    "def gradient_descent(X, y, w, b, alpha, iterations, lambda_):\n",
    "    cost_history = []\n",
    "    w_history = []\n",
    "    \n",
    "    for i in range(iterations):\n",
    "        dj_db, dj_dw = gradient(X, y, w, b, lambda_)\n",
    "        w = w - alpha * dj_dw\n",
    "        b = b - alpha * dj_db\n",
    "        \n",
    "        if i < 100000:\n",
    "            cost_val = cost(X, y, w, b)\n",
    "            cost_history.append(cost_val)\n",
    "        if i%math.ceil(iterations/10) == 0 or i == (iterations-1):\n",
    "            w_history.append(w)\n",
    "            print(f\"Iteration {i:4}: Cost {float(cost_history[-1]):8.2f}   \")\n",
    "        \n",
    "    return w, b, cost_history, w_history"
   ]
  },
  {
   "cell_type": "markdown",
   "id": "1b78696a",
   "metadata": {},
   "source": [
    "Test Gradient Descent"
   ]
  },
  {
   "cell_type": "code",
   "execution_count": 133,
   "id": "f9135c0e",
   "metadata": {},
   "outputs": [
    {
     "name": "stderr",
     "output_type": "stream",
     "text": [
      "/var/folders/t9/jkdln0dj4z1d48j56btqnp780000gn/T/ipykernel_80634/2267037813.py:13: RuntimeWarning: divide by zero encountered in log\n",
      "  loss_val = -y_arr[row] * np.log(f_val) - ((1-y_arr[row]) * np.log(1-f_val))\n",
      "/var/folders/t9/jkdln0dj4z1d48j56btqnp780000gn/T/ipykernel_80634/2267037813.py:13: RuntimeWarning: invalid value encountered in multiply\n",
      "  loss_val = -y_arr[row] * np.log(f_val) - ((1-y_arr[row]) * np.log(1-f_val))\n"
     ]
    },
    {
     "ename": "TypeError",
     "evalue": "only size-1 arrays can be converted to Python scalars",
     "output_type": "error",
     "traceback": [
      "\u001b[0;31m---------------------------------------------------------------------------\u001b[0m",
      "\u001b[0;31mTypeError\u001b[0m                                 Traceback (most recent call last)",
      "\u001b[0;32m/var/folders/t9/jkdln0dj4z1d48j56btqnp780000gn/T/ipykernel_80634/142090141.py\u001b[0m in \u001b[0;36m<module>\u001b[0;34m\u001b[0m\n\u001b[1;32m      6\u001b[0m \u001b[0malpha\u001b[0m \u001b[0;34m=\u001b[0m \u001b[0;36m0.001\u001b[0m\u001b[0;34m\u001b[0m\u001b[0;34m\u001b[0m\u001b[0m\n\u001b[1;32m      7\u001b[0m \u001b[0;34m\u001b[0m\u001b[0m\n\u001b[0;32m----> 8\u001b[0;31m \u001b[0mw\u001b[0m\u001b[0;34m,\u001b[0m\u001b[0mb\u001b[0m\u001b[0;34m,\u001b[0m \u001b[0mcost_history\u001b[0m\u001b[0;34m,\u001b[0m\u001b[0m_\u001b[0m \u001b[0;34m=\u001b[0m \u001b[0mgradient_descent\u001b[0m\u001b[0;34m(\u001b[0m\u001b[0mX_train\u001b[0m\u001b[0;34m,\u001b[0m \u001b[0my_train\u001b[0m\u001b[0;34m,\u001b[0m \u001b[0minitial_w\u001b[0m\u001b[0;34m,\u001b[0m \u001b[0minitial_b\u001b[0m\u001b[0;34m,\u001b[0m \u001b[0malpha\u001b[0m\u001b[0;34m,\u001b[0m \u001b[0miterations\u001b[0m\u001b[0;34m,\u001b[0m \u001b[0;36m0\u001b[0m\u001b[0;34m)\u001b[0m\u001b[0;34m\u001b[0m\u001b[0;34m\u001b[0m\u001b[0m\n\u001b[0m",
      "\u001b[0;32m/var/folders/t9/jkdln0dj4z1d48j56btqnp780000gn/T/ipykernel_80634/2521218264.py\u001b[0m in \u001b[0;36mgradient_descent\u001b[0;34m(X, y, w, b, alpha, iterations, lambda_)\u001b[0m\n\u001b[1;32m     13\u001b[0m         \u001b[0;32mif\u001b[0m \u001b[0mi\u001b[0m\u001b[0;34m%\u001b[0m\u001b[0mmath\u001b[0m\u001b[0;34m.\u001b[0m\u001b[0mceil\u001b[0m\u001b[0;34m(\u001b[0m\u001b[0miterations\u001b[0m\u001b[0;34m/\u001b[0m\u001b[0;36m10\u001b[0m\u001b[0;34m)\u001b[0m \u001b[0;34m==\u001b[0m \u001b[0;36m0\u001b[0m \u001b[0;32mor\u001b[0m \u001b[0mi\u001b[0m \u001b[0;34m==\u001b[0m \u001b[0;34m(\u001b[0m\u001b[0miterations\u001b[0m\u001b[0;34m-\u001b[0m\u001b[0;36m1\u001b[0m\u001b[0;34m)\u001b[0m\u001b[0;34m:\u001b[0m\u001b[0;34m\u001b[0m\u001b[0;34m\u001b[0m\u001b[0m\n\u001b[1;32m     14\u001b[0m             \u001b[0mw_history\u001b[0m\u001b[0;34m.\u001b[0m\u001b[0mappend\u001b[0m\u001b[0;34m(\u001b[0m\u001b[0mw\u001b[0m\u001b[0;34m)\u001b[0m\u001b[0;34m\u001b[0m\u001b[0;34m\u001b[0m\u001b[0m\n\u001b[0;32m---> 15\u001b[0;31m             \u001b[0mprint\u001b[0m\u001b[0;34m(\u001b[0m\u001b[0;34mf\"Iteration {i:4}: Cost {float(cost_history[-1]):8.2f}   \"\u001b[0m\u001b[0;34m)\u001b[0m\u001b[0;34m\u001b[0m\u001b[0;34m\u001b[0m\u001b[0m\n\u001b[0m\u001b[1;32m     16\u001b[0m \u001b[0;34m\u001b[0m\u001b[0m\n\u001b[1;32m     17\u001b[0m     \u001b[0;32mreturn\u001b[0m \u001b[0mw\u001b[0m\u001b[0;34m,\u001b[0m \u001b[0mb\u001b[0m\u001b[0;34m,\u001b[0m \u001b[0mcost_history\u001b[0m\u001b[0;34m,\u001b[0m \u001b[0mw_history\u001b[0m\u001b[0;34m\u001b[0m\u001b[0;34m\u001b[0m\u001b[0m\n",
      "\u001b[0;31mTypeError\u001b[0m: only size-1 arrays can be converted to Python scalars"
     ]
    }
   ],
   "source": [
    "np.random.seed(1)\n",
    "initial_w = 0.01 * (np.random.rand(2) - 0.5)\n",
    "initial_b = -8\n",
    "\n",
    "iterations = 10000\n",
    "alpha = 0.001\n",
    "\n",
    "w,b, cost_history,_ = gradient_descent(X_train, y_train, initial_w, initial_b, alpha, iterations, 0)"
   ]
  },
  {
   "cell_type": "code",
   "execution_count": null,
   "id": "42cd3f35",
   "metadata": {},
   "outputs": [],
   "source": []
  }
 ],
 "metadata": {
  "kernelspec": {
   "display_name": "Python 3 (ipykernel)",
   "language": "python",
   "name": "python3"
  },
  "language_info": {
   "codemirror_mode": {
    "name": "ipython",
    "version": 3
   },
   "file_extension": ".py",
   "mimetype": "text/x-python",
   "name": "python",
   "nbconvert_exporter": "python",
   "pygments_lexer": "ipython3",
   "version": "3.9.13"
  }
 },
 "nbformat": 4,
 "nbformat_minor": 5
}
